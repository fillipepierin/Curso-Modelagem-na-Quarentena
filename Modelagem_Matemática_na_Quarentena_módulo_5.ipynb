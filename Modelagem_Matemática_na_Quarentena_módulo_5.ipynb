{
  "nbformat": 4,
  "nbformat_minor": 0,
  "metadata": {
    "colab": {
      "name": "Modelagem Matemática na Quarentena - módulo 5.ipynb",
      "provenance": [],
      "collapsed_sections": [
        "Ih7y5GEvxbuG",
        "wmN0FlGvu9k5"
      ]
    },
    "kernelspec": {
      "name": "python3",
      "display_name": "Python 3"
    }
  },
  "cells": [
    {
      "cell_type": "markdown",
      "metadata": {
        "id": "3hq9AmSA-71g",
        "colab_type": "text"
      },
      "source": [
        "# **Modelagem Matemática na Quarentena**"
      ]
    },
    {
      "cell_type": "markdown",
      "metadata": {
        "id": "bsyQ4GKXYJ9Y",
        "colab_type": "text"
      },
      "source": [
        "**módulo 5 - soluções numéricas dos modelos matemáticos**"
      ]
    },
    {
      "cell_type": "markdown",
      "metadata": {
        "id": "I_XXUMlMyBrG",
        "colab_type": "text"
      },
      "source": [
        "###**Carregando os pacotes necessários**"
      ]
    },
    {
      "cell_type": "code",
      "metadata": {
        "id": "-_iK935p-UkQ",
        "colab_type": "code",
        "colab": {
          "base_uri": "https://localhost:8080/",
          "height": 71
        },
        "outputId": "758148ea-c010-492b-a8d1-a846f4f1251b"
      },
      "source": [
        "import numpy as np\n",
        "import matplotlib.pyplot as plt\n",
        "import pandas as pd\n",
        "import statsmodels.api as sm\n",
        "import math # pacote com as funções matemáticas\n",
        "from scipy.integrate import odeint, solve_ivp # pacote para resolução de equações diferenciais\n",
        "from scipy import optimize # pacote para resolução de problemas de otimização"
      ],
      "execution_count": 1,
      "outputs": [
        {
          "output_type": "stream",
          "text": [
            "/usr/local/lib/python3.6/dist-packages/statsmodels/tools/_testing.py:19: FutureWarning: pandas.util.testing is deprecated. Use the functions in the public API at pandas.testing instead.\n",
            "  import pandas.util.testing as tm\n"
          ],
          "name": "stderr"
        }
      ]
    },
    {
      "cell_type": "markdown",
      "metadata": {
        "id": "Ih7y5GEvxbuG",
        "colab_type": "text"
      },
      "source": [
        "####**Métodos de PVI**"
      ]
    },
    {
      "cell_type": "markdown",
      "metadata": {
        "id": "LPM4_U0sUJq0",
        "colab_type": "text"
      },
      "source": [
        "**Método dos Euler Explícito**"
      ]
    },
    {
      "cell_type": "code",
      "metadata": {
        "id": "_FXuYPogUH67",
        "colab_type": "code",
        "colab": {}
      },
      "source": [
        "def met_euler_explicito(a, b, N, alpha):\n",
        "\tt = np.zeros(N + 1)\n",
        "\tu = np.zeros(N + 1)\n",
        "\th = (b - a) / N\n",
        "\tt[0] = a\n",
        "\tu[0] = alpha\n",
        "\tfor i in range(1, N + 1):\n",
        "\t\tu[i] = u[i - 1] + h * f(t[i - 1], u[i - 1])\n",
        "\t\tt[i] = a + i * h\n",
        "\treturn t, u"
      ],
      "execution_count": 2,
      "outputs": []
    },
    {
      "cell_type": "markdown",
      "metadata": {
        "colab_type": "text",
        "id": "RKQ6dxXvqSux"
      },
      "source": [
        "**Método dos Euler Implícito**"
      ]
    },
    {
      "cell_type": "code",
      "metadata": {
        "colab_type": "code",
        "id": "pNKZnrDZqSu0",
        "colab": {}
      },
      "source": [
        "def met_euler_implicito(a, b, N, alpha):\n",
        "\tt = np.zeros(N + 1)\n",
        "\tu = np.zeros(N + 1)\n",
        "\th = (b - a) / N\n",
        "\tt[0] = a\n",
        "\tu[0] = alpha\n",
        "\tfor i in range(1, N + 1):\n",
        "\t\tt1, u1 = met_euler_explicito(a, b, N, alpha)\n",
        "\t\tu[i] = u[i - 1] + h * f(t[i - 1], u[i - 1]) # euler explícito\n",
        "\t\tu[i] = u[i - 1] + h * f(t[i], u[i])\n",
        "\t\t# u[i] = (1 / (1- h * beta)) * u[i - 1]\n",
        "\t\tt[i] = a + i * h\n",
        "\treturn t, u"
      ],
      "execution_count": 3,
      "outputs": []
    },
    {
      "cell_type": "markdown",
      "metadata": {
        "id": "Z8qEvt3eMpa_",
        "colab_type": "text"
      },
      "source": [
        "**Método dos Trapézios**"
      ]
    },
    {
      "cell_type": "code",
      "metadata": {
        "id": "-lGGjvae7JpQ",
        "colab_type": "code",
        "colab": {}
      },
      "source": [
        "def met_trapezio(a, b, N, alpha):\n",
        "\tt = np.zeros(N + 1); u = np.zeros(N + 1)\n",
        "\tu = np.zeros(N + 1)\n",
        "\th = (b - a) / N\n",
        "\tt[0] = a\n",
        "\tu[0] = alpha\n",
        "\tfor i in range(1, N + 1):\n",
        "\t\tu[i] = u[i - 1] + (h / 2) * (f(t[i - 1], u[i - 1]) + f(t[i - 1], u[i - 1])) # trapézio explícito\n",
        "\t\tu[i] = u[i - 1] + (h / 2) * (f(t[i - 1], u[i - 1]) + f(t[i], u[i]))\n",
        "\t\t# u[i] = ((2 + h * beta) / (2 - h * beta)) * u[i - 1]\n",
        "\t\tt[i] = a + i * h\n",
        "\treturn t, u"
      ],
      "execution_count": 4,
      "outputs": []
    },
    {
      "cell_type": "markdown",
      "metadata": {
        "id": "wmN0FlGvu9k5",
        "colab_type": "text"
      },
      "source": [
        "####**Exemplo $u(t) = e^{\\beta t}$**"
      ]
    },
    {
      "cell_type": "code",
      "metadata": {
        "id": "yZaQEkdBj4Hb",
        "colab_type": "code",
        "colab": {
          "base_uri": "https://localhost:8080/",
          "height": 297
        },
        "outputId": "92bc4f01-6227-499a-847a-c694c5701bfa"
      },
      "source": [
        "# exemplo u(t) = exp(beta * t)\n",
        "beta = 4\n",
        "def f(t, u):\n",
        "  r = beta * u\n",
        "  return r\n",
        "\n",
        "t, u1 = met_euler_explicito(0, 1, 30, 1)\n",
        "t, u2 = met_euler_implicito(0, 1, 30, 1)\n",
        "t, u3 = met_trapezio(0, 1, 30, 1)\n",
        "ax = plt.subplot(111)\n",
        "ax.plot(t, u1, \"-\", LineWidth = 1.25, label = \"Euler explícito\") # https://stackoverflow.com/questions/13359951/is-there-a-list-of-line-styles-in-matplotlib\n",
        "ax.plot(t, u2, \"-\", LineWidth = 1.25, label = \"Euler implícito\")\n",
        "ax.plot(t, u3, \"-\", LineWidth = 1.25, label = \"Trapézio\")\n",
        "ax.plot(t, np.exp(beta * t), \"-\", LineWidth = 1.25, color = \"red\", label = \"Solução exata\")\n",
        "plt.xlabel(\"h\")\n",
        "plt.ylabel(\"u\")\n",
        "plt.title(\"Método dos Explícito - $f(beta, u) = beta * u \\in [0, 1], y(0) = 1$\")\n",
        "\n",
        "box = ax.get_position()\n",
        "ax.set_position([box.x0, box.y0, box.width * 1.0, box.height])\n",
        "ax.legend(loc='center left', bbox_to_anchor=(1, 0.85))\n",
        "plt.show()\n",
        "\n",
        "# data = {'t': t, 'u - euler explícito': u1, 'u - euler implícito': u2, 'u - trapézio': u3}\n",
        "# df = pd.DataFrame(data=data)\n",
        "# print(df)"
      ],
      "execution_count": 5,
      "outputs": [
        {
          "output_type": "display_data",
          "data": {
            "image/png": "[encoded data removed]",
            "text/plain": [
              "<Figure size 432x288 with 1 Axes>"
            ]
          },
          "metadata": {
            "tags": [],
            "needs_background": "light"
          }
        }
      ]
    },
    {
      "cell_type": "code",
      "metadata": {
        "id": "KvMZyCJS3ill",
        "colab_type": "code",
        "colab": {
          "base_uri": "https://localhost:8080/",
          "height": 297
        },
        "outputId": "a94a1c53-ded1-4466-a466-eec4eea67b0d"
      },
      "source": [
        "# exemplo w(t) = exp(beta * t)\n",
        "beta = 4\n",
        "def f(t, u):\n",
        "  r = beta * u\n",
        "  return r\n",
        "\n",
        "t, u1 = met_euler_explicito(0, 1, 1000, 1)\n",
        "t, u2 = met_euler_implicito(0, 1, 1000, 1)\n",
        "t, u3 = met_trapezio(0, 1, 1000, 1)\n",
        "ax = plt.subplot(111)\n",
        "ax.plot(t, u1, \"-\", LineWidth = 1.25, label = \"Euler explícito\")\n",
        "ax.plot(t, u2, \"-\", LineWidth = 1.25, label = \"Euler implícito\")\n",
        "ax.plot(t, u3, \"-\", LineWidth = 1.25, label = \"Trapézio\")\n",
        "ax.plot(t, np.exp(beta * t), \"-\", LineWidth = 1.25, color = \"red\", label = \"Solução exata\")\n",
        "plt.xlabel(\"h\")\n",
        "plt.ylabel(\"u\")\n",
        "plt.title(\"Método dos Explícito - $f(beta, u) = beta * u \\in [0, 1], y(0) = 1$\")\n",
        "\n",
        "box = ax.get_position()\n",
        "ax.set_position([box.x0, box.y0, box.width * 1.0, box.height])\n",
        "ax.legend(loc='center left', bbox_to_anchor=(1, 0.85))\n",
        "plt.show()\n",
        "\n",
        "# data = {'t': t, 'u - euler explícito': u1, 'u - euler implícito': u2, 'u - trapézio': u3}\n",
        "# df = pd.DataFrame(data=data)\n",
        "# print(df)"
      ],
      "execution_count": 6,
      "outputs": [
        {
          "output_type": "display_data",
          "data": {
            "image/png": "[encoded data removed]",
            "text/plain": [
              "<Figure size 432x288 with 1 Axes>"
            ]
          },
          "metadata": {
            "tags": [],
            "needs_background": "light"
          }
        }
      ]
    },
    {
      "cell_type": "markdown",
      "metadata": {
        "id": "0BCO730bIxhy",
        "colab_type": "text"
      },
      "source": [
        "#####**Erro de Aproximação**"
      ]
    },
    {
      "cell_type": "code",
      "metadata": {
        "id": "aUmAcBxP3ihf",
        "colab_type": "code",
        "colab": {
          "base_uri": "https://localhost:8080/",
          "height": 297
        },
        "outputId": "1dbe4eb2-e56c-47d1-b2c3-eb6edabd3c73"
      },
      "source": [
        "# exemplo u(t) = exp(beta * t)\n",
        "# erro local\n",
        "beta = 4\n",
        "def f(t, u):\n",
        "  r = beta * u\n",
        "  return r\n",
        "\n",
        "a = 0.015; b = 0.100; i = 0.01\n",
        "esp = np.linspace(a, b, int(round(1 + (b - a) / i)))\n",
        "eh_euler_exp = np.zeros(len(esp))\n",
        "eh_euler_imp = np.zeros(len(esp))\n",
        "eh_trapez = np.zeros(len(esp))\n",
        "i = 0\n",
        "for k in esp:\n",
        "  N = int(round((1 - 0) / k))\n",
        "  t, u1 = met_euler_explicito(0, 1, N, 1)\n",
        "  t, u2 = met_euler_implicito(0, 1, N, 1)\n",
        "  t, u3 = met_trapezio(0, 1, N, 1)\n",
        "  exata = np.exp(beta * t) # e_h(t_i) = u(t_i) - u_i\n",
        "  eh_euler_exp[i] = np.linalg.norm(exata - u1, np.inf)\n",
        "  eh_euler_imp[i] = np.linalg.norm(exata - u2, np.inf)\n",
        "  eh_trapez[i] = np.linalg.norm(exata - u3, np.inf)\n",
        "  i = i + 1\n",
        "\n",
        "ax = plt.subplot(111)\n",
        "ax.plot(esp, eh_euler_exp, \"-\", LineWidth = 1.25, label = \"Euler explícito\")\n",
        "ax.plot(esp, eh_euler_imp, \"-\", LineWidth = 1.25, label = \"Euler implícito\")\n",
        "ax.plot(esp, eh_trapez, \"-\", LineWidth = 1.25, label = \"Trapézio\")\n",
        "plt.xlabel(\"h\")\n",
        "plt.ylabel(\"$||e_h||_{\\infty}$\")\n",
        "plt.title(\"Erro de Aproximação - $f(beta, u) = beta * u \\in [0, 1], y(0) = 1$\")\n",
        "\n",
        "box = ax.get_position()\n",
        "ax.set_position([box.x0, box.y0, box.width * 1.0, box.height])\n",
        "ax.legend(loc='center left', bbox_to_anchor=(1, 0.89))\n",
        "plt.show()\n",
        "\n",
        "# data = {'eh_euler_exp': eh_euler_exp, 'eh_euler_imp': eh_euler_imp, 'eh_trapez': eh_trapez}\n",
        "# df = pd.DataFrame(data=data)\n",
        "# print(df)"
      ],
      "execution_count": 7,
      "outputs": [
        {
          "output_type": "display_data",
          "data": {
            "image/png": "[encoded data removed]",
            "text/plain": [
              "<Figure size 432x288 with 1 Axes>"
            ]
          },
          "metadata": {
            "tags": [],
            "needs_background": "light"
          }
        }
      ]
    },
    {
      "cell_type": "markdown",
      "metadata": {
        "id": "XpdHXh61JiWV",
        "colab_type": "text"
      },
      "source": [
        "#####**Ordem de Convergência Numérica**"
      ]
    },
    {
      "cell_type": "code",
      "metadata": {
        "id": "3fu4eOg4fGhn",
        "colab_type": "code",
        "colab": {
          "base_uri": "https://localhost:8080/",
          "height": 283
        },
        "outputId": "86e6b353-cf82-4c0e-d990-e1bbbdddcb58"
      },
      "source": [
        "ax = plt.subplot(111)\n",
        "ax.plot(esp, eh_euler_exp, \"-\", LineWidth = 1.25, label = \"Euler explícito\")\n",
        "ax.plot(esp, eh_euler_imp, \"-\", LineWidth = 1.25, label = \"Euler implícito\")\n",
        "ax.plot(esp, eh_trapez, \"-\", LineWidth = 1.25, label = \"Trapézio\")\n",
        "# plt.xlabel(\"log(h)\")\n",
        "# plt.ylabel(\"$log(||e_h||_{\\infty})$\")\n",
        "plt.title(\"Erro de Aproximação - $f(beta, u) = beta * u \\in [0, 1], y(0) = 1$\")\n",
        "\n",
        "plt.yscale('log')\n",
        "\n",
        "box = ax.get_position()\n",
        "ax.set_position([box.x0, box.y0, box.width * 1.0, box.height])\n",
        "ax.legend(loc='center left', bbox_to_anchor=(1, 0.89))\n",
        "plt.show()"
      ],
      "execution_count": 8,
      "outputs": [
        {
          "output_type": "display_data",
          "data": {
            "image/png": "[encoded data removed]",
            "text/plain": [
              "<Figure size 432x288 with 1 Axes>"
            ]
          },
          "metadata": {
            "tags": [],
            "needs_background": "light"
          }
        }
      ]
    },
    {
      "cell_type": "code",
      "metadata": {
        "id": "VjnldWwm7mYs",
        "colab_type": "code",
        "colab": {
          "base_uri": "https://localhost:8080/",
          "height": 68
        },
        "outputId": "df1be793-9463-412a-cb27-476f2940cd9d"
      },
      "source": [
        "# p = (log(||e_h1|| / ||e_h2||)) / (log(h1 / h2))\n",
        "beta = 4\n",
        "def f(t, u):\n",
        "  r = beta * u\n",
        "  return r\n",
        "\n",
        "h1 = 0.001; # h2 = 0.002\n",
        "h = [h1, h1 / 2]\n",
        "\n",
        "i = 1\n",
        "for k in h:\n",
        "  t, u1 = met_euler_explicito(0, 1, int((1 - 0) / k), 1)\n",
        "  t, u2 = met_euler_implicito(0, 1, int((1 - 0) / k), 1)\n",
        "  t, u3 = met_trapezio(0, 1, int((1 - 0) / k), 1)\n",
        "  exata = np.exp(beta * t) # e_h(t_i) = u(t_i) - u_i\n",
        "  if i == 1:\n",
        "    eh1_euler_explicito = np.linalg.norm(exata - u1, np.inf)\n",
        "    eh1_euler_implicito = np.linalg.norm(exata - u2, np.inf)\n",
        "    eh1_trapezio = np.linalg.norm(exata - u3, np.inf)\n",
        "    i = i + 1\n",
        "  elif i == 2:\n",
        "    eh2_euler_explicito = np.linalg.norm(exata - u1, np.inf)\n",
        "    eh2_euler_implicito = np.linalg.norm(exata - u2, np.inf)\n",
        "    eh2_trapezio = np.linalg.norm(exata - u3, np.inf)\n",
        "    i = i + 1\n",
        "\n",
        "p_euler_explicito = np.log(eh1_euler_explicito / eh2_euler_explicito) / np.log(h[0] / h[1])\n",
        "p_euler_implicito = np.log(eh1_euler_implicito / eh2_euler_implicito) / np.log(h[0] / h[1])\n",
        "p_trapezio = np.log(eh1_trapezio / eh2_trapezio) / np.log(h[0] / h[1])\n",
        "\n",
        "print(f'Euler explícito: p = {p_euler_explicito:.4f}')\n",
        "print(f'Euler implícito: p = {p_euler_implicito:.4f}')\n",
        "print(f'Trapézio: p = {p_trapezio:.4f}')"
      ],
      "execution_count": 9,
      "outputs": [
        {
          "output_type": "stream",
          "text": [
            "Euler explícito: p = 0.9952\n",
            "Euler implícito: p = 0.9990\n",
            "Trapézio: p = 1.9978\n"
          ],
          "name": "stdout"
        }
      ]
    },
    {
      "cell_type": "markdown",
      "metadata": {
        "id": "QQsfg6Gf1QxU",
        "colab_type": "text"
      },
      "source": [
        "####**Aplicação em dados do COVID-19**"
      ]
    },
    {
      "cell_type": "markdown",
      "metadata": {
        "id": "2mmw-1mi1ZHq",
        "colab_type": "text"
      },
      "source": [
        "#####**Modelo SID - ajuste dos dados**"
      ]
    },
    {
      "cell_type": "code",
      "metadata": {
        "id": "kUbBrkcHYVpd",
        "colab_type": "code",
        "colab": {
          "base_uri": "https://localhost:8080/",
          "height": 204
        },
        "outputId": "e3acff1f-5aad-4957-e0d9-cea93710c47c"
      },
      "source": [
        "# dados COVID-19 no Brasil - infectados, mortes e recuperados\n",
        "base_dados = pd.read_csv('/content/drive/My Drive/Colab Notebooks/covid-brasil.csv', sep = \";\")\n",
        "base_dados.head()"
      ],
      "execution_count": 10,
      "outputs": [
        {
          "output_type": "execute_result",
          "data": {
            "text/html": [
              "<div>\n",
              "<style scoped>\n",
              "    .dataframe tbody tr th:only-of-type {\n",
              "        vertical-align: middle;\n",
              "    }\n",
              "\n",
              "    .dataframe tbody tr th {\n",
              "        vertical-align: top;\n",
              "    }\n",
              "\n",
              "    .dataframe thead th {\n",
              "        text-align: right;\n",
              "    }\n",
              "</style>\n",
              "<table border=\"1\" class=\"dataframe\">\n",
              "  <thead>\n",
              "    <tr style=\"text-align: right;\">\n",
              "      <th></th>\n",
              "      <th>Data</th>\n",
              "      <th>Dias_num</th>\n",
              "      <th>Infectados</th>\n",
              "      <th>Mortes</th>\n",
              "      <th>Recuperados</th>\n",
              "    </tr>\n",
              "  </thead>\n",
              "  <tbody>\n",
              "    <tr>\n",
              "      <th>0</th>\n",
              "      <td>25/02</td>\n",
              "      <td>1</td>\n",
              "      <td>0</td>\n",
              "      <td>0</td>\n",
              "      <td>0</td>\n",
              "    </tr>\n",
              "    <tr>\n",
              "      <th>1</th>\n",
              "      <td>26/02</td>\n",
              "      <td>2</td>\n",
              "      <td>1</td>\n",
              "      <td>0</td>\n",
              "      <td>0</td>\n",
              "    </tr>\n",
              "    <tr>\n",
              "      <th>2</th>\n",
              "      <td>27/02</td>\n",
              "      <td>3</td>\n",
              "      <td>1</td>\n",
              "      <td>0</td>\n",
              "      <td>0</td>\n",
              "    </tr>\n",
              "    <tr>\n",
              "      <th>3</th>\n",
              "      <td>28/02</td>\n",
              "      <td>4</td>\n",
              "      <td>1</td>\n",
              "      <td>0</td>\n",
              "      <td>0</td>\n",
              "    </tr>\n",
              "    <tr>\n",
              "      <th>4</th>\n",
              "      <td>29/02</td>\n",
              "      <td>5</td>\n",
              "      <td>2</td>\n",
              "      <td>0</td>\n",
              "      <td>0</td>\n",
              "    </tr>\n",
              "  </tbody>\n",
              "</table>\n",
              "</div>"
            ],
            "text/plain": [
              "    Data  Dias_num  Infectados  Mortes  Recuperados\n",
              "0  25/02         1           0       0            0\n",
              "1  26/02         2           1       0            0\n",
              "2  27/02         3           1       0            0\n",
              "3  28/02         4           1       0            0\n",
              "4  29/02         5           2       0            0"
            ]
          },
          "metadata": {
            "tags": []
          },
          "execution_count": 10
        }
      ]
    },
    {
      "cell_type": "markdown",
      "metadata": {
        "id": "_Zo7eObZz5QA",
        "colab_type": "text"
      },
      "source": [
        "Aplica-se o modelo SID aos dados do COVID-19 no Brasil."
      ]
    },
    {
      "cell_type": "code",
      "metadata": {
        "id": "WtJJ2V09XxoB",
        "colab_type": "code",
        "colab": {}
      },
      "source": [
        "# função que representa a solução do modelo SID usando o método do trapézio, cujos parâmetros beta e gamma serão estimados usando otimização\n",
        "def model_sid_trap(param):\n",
        "  I = np.zeros(n); D = np.zeros(n); S = np.zeros(n); N = np.zeros(n);\n",
        "  beta = param[0]; gamma = param[1]; # h = param[0]; beta = param[1]; gamma = param[2];\n",
        "\n",
        "  I[0] = val_inic[1]\n",
        "  D[0] = val_inic[2]\n",
        "  S[0] = val_inic[0]\n",
        "  N = val_inic[3]\n",
        "\n",
        "  for i in range(0, n-1):\n",
        "    I[i+1] = ((1 + (h / 2) * ((beta / N) * S[i] - gamma)) / (1 - (h / 2) * ((beta / N) * S[i] - gamma))) * I[i]\n",
        "    D[i+1] = D[i] + gamma * (h / 2) * (I[i+1] + I[i])\n",
        "    S[i+1] = N - I[i+1] - D[i+1]\n",
        "  return sum((I - y1)**2 + (D - y2)**2)"
      ],
      "execution_count": 11,
      "outputs": []
    },
    {
      "cell_type": "code",
      "metadata": {
        "id": "ItR8rbEFdwLs",
        "colab_type": "code",
        "colab": {
          "base_uri": "https://localhost:8080/",
          "height": 34
        },
        "outputId": "d0457223-1f01-4d35-9c36-00cc99123b69"
      },
      "source": [
        "# obtendo solução 1 com h = 0.333\n",
        "y1 = base_dados.iloc[:, 2].values # infectados\n",
        "y2 = base_dados.iloc[:, 3].values # mortes\n",
        "\n",
        "# estimando os parâmetros: beta, gamma\n",
        "h = 0.333;\n",
        "val_inic = [210147124, 1, 0, 210147125] # valores iniciais: S(1), I(1), D(1), N(1)\n",
        "param = [0.4, 0.02]\n",
        "n = len(base_dados)\n",
        "sol1 = optimize.fmin_bfgs(model_sid_trap, param, disp=0)\n",
        "print(sol1) # beta e gamma\n",
        "\n",
        "# obtendo I_sol1, D_sol1, S_sol1 usando os valores dos parâmetros estimados\n",
        "param = sol1 # param = [sol[0], sol[1], sol[2]] # param = [0.001, 0.46228, 0.0085] # parâmetros: h, beta, gamma\n",
        "n = len(base_dados)\n",
        "I_sol1 = np.zeros(n); D_sol1 = np.zeros(n); S_sol1 = np.zeros(n); N_sol1 = np.zeros(n);\n",
        "I_sol1[0] = val_inic[1]; D_sol1[0] = val_inic[2]; S_sol1[0] = val_inic[0]; N = val_inic[3]\n",
        "beta = param[0]; gamma = param[1];\n",
        "for i in range(0, n-1):\n",
        "  I_sol1[i+1] = ((1 + (h / 2) * ((beta / N) * S_sol1[i] - gamma)) / (1 - (h / 2) * ((beta / N) * S_sol1[i] - gamma))) * I_sol1[i]\n",
        "  D_sol1[i+1] = D_sol1[i] + gamma * (h / 2) * (I_sol1[i+1] + I_sol1[i])\n",
        "  S_sol1[i+1] = N - I_sol1[i+1] - D_sol1[i+1]"
      ],
      "execution_count": 12,
      "outputs": [
        {
          "output_type": "stream",
          "text": [
            "[0.40438556 0.02088962]\n"
          ],
          "name": "stdout"
        }
      ]
    },
    {
      "cell_type": "code",
      "metadata": {
        "id": "V3CVcgrK7IWH",
        "colab_type": "code",
        "colab": {
          "base_uri": "https://localhost:8080/",
          "height": 295
        },
        "outputId": "73b87bc0-cf45-4ce7-a6e2-9af64de72318"
      },
      "source": [
        "t = base_dados.iloc[:, 1].values # dias_num\n",
        "y1 = base_dados.iloc[:, 2].values # infectados\n",
        "plt.plot(t, y1, \".\", color = \"blue\")\n",
        "plt.plot(t, I_sol1, \"-\", color = \"black\")\n",
        "plt.xlabel(\"Dias\")\n",
        "plt.ylabel(\"Infectados\")\n",
        "plt.title(\"Número acumulado de infectados no Brasil\")\n",
        "plt.show()"
      ],
      "execution_count": 13,
      "outputs": [
        {
          "output_type": "display_data",
          "data": {
            "image/png": "[encoded data removed]",
            "text/plain": [
              "<Figure size 432x288 with 1 Axes>"
            ]
          },
          "metadata": {
            "tags": [],
            "needs_background": "light"
          }
        }
      ]
    },
    {
      "cell_type": "code",
      "metadata": {
        "id": "oMntusBW7IQ6",
        "colab_type": "code",
        "colab": {
          "base_uri": "https://localhost:8080/",
          "height": 295
        },
        "outputId": "161bb2cf-ceb0-4ec3-83ca-2fb5847a4071"
      },
      "source": [
        "t2 = base_dados.iloc[:, 1].values # dias_num\n",
        "y2 = base_dados.iloc[:, 3].values # mortes\n",
        "plt.plot(t2, y2, \".\", color = \"blue\")\n",
        "plt.plot(t, D_sol1, \"-\", color = \"black\")\n",
        "plt.xlabel(\"Dias\")\n",
        "plt.ylabel(\"Mortes\")\n",
        "plt.title(\"Número acumulado de mortes no Brasil\")\n",
        "plt.show()"
      ],
      "execution_count": 14,
      "outputs": [
        {
          "output_type": "display_data",
          "data": {
            "image/png": "[encoded data removed]",
            "text/plain": [
              "<Figure size 432x288 with 1 Axes>"
            ]
          },
          "metadata": {
            "tags": [],
            "needs_background": "light"
          }
        }
      ]
    },
    {
      "cell_type": "markdown",
      "metadata": {
        "id": "FFnIc7rZ4v1e",
        "colab_type": "text"
      },
      "source": [
        "#####**Ordem de Convergência Numérica**"
      ]
    },
    {
      "cell_type": "code",
      "metadata": {
        "id": "hdnvdjYBRIKF",
        "colab_type": "code",
        "colab": {
          "base_uri": "https://localhost:8080/",
          "height": 34
        },
        "outputId": "5187c4f1-ec10-49c9-bed4-f618a10392fb"
      },
      "source": [
        "# obtendo solução 2 com h = 0.344\n",
        "y1 = base_dados.iloc[:, 2].values # infectados\n",
        "y2 = base_dados.iloc[:, 3].values # mortes\n",
        "\n",
        "# estimando os parâmetros: beta, gamma\n",
        "h = 0.344;\n",
        "val_inic = [210147124, 1, 0, 210147125] # valores iniciais: S(1), I(1), D(1), N(1)\n",
        "param = [0.4, 0.02]\n",
        "n = len(base_dados)\n",
        "sol2 = optimize.fmin_bfgs(model_sid_trap, param, disp=0)\n",
        "print(sol2) # beta e gamma\n",
        "\n",
        "# obtendo I_sol2, D_sol2, S_sol2 usando os valores dos parâmetros estimados\n",
        "param = sol2 # param = [sol[0], sol[1], sol[2]] # param = [0.001, 0.46228, 0.0085] # parâmetros: h, beta, gamma\n",
        "n = len(base_dados)\n",
        "I_sol2 = np.zeros(n); D_sol2 = np.zeros(n); S_sol2 = np.zeros(n); N_sol2 = np.zeros(n);\n",
        "I_sol2[0] = val_inic[1]; D_sol2[0] = val_inic[2]; S_sol2[0] = val_inic[0]; N = val_inic[3]\n",
        "beta = param[0]; gamma = param[1];\n",
        "for i in range(0, n-1):\n",
        "  I_sol2[i+1] = ((1 + (h / 2) * ((beta / N) * S_sol2[i] - gamma)) / (1 - (h / 2) * ((beta / N) * S_sol2[i] - gamma))) * I_sol2[i]\n",
        "  D_sol2[i+1] = D_sol2[i] + gamma * (h / 2) * (I_sol2[i+1] + I_sol2[i])\n",
        "  S_sol2[i+1] = N - I_sol2[i+1] - D_sol2[i+1]"
      ],
      "execution_count": 15,
      "outputs": [
        {
          "output_type": "stream",
          "text": [
            "[0.39145459 0.0202216 ]\n"
          ],
          "name": "stdout"
        }
      ]
    },
    {
      "cell_type": "code",
      "metadata": {
        "id": "5uMtoppWDkv3",
        "colab_type": "code",
        "colab": {
          "base_uri": "https://localhost:8080/",
          "height": 34
        },
        "outputId": "822f8c01-4f3d-4f4c-ab7a-1f86d3971bf8"
      },
      "source": [
        "# considerando como solução exata: h = 0.414\n",
        "y1 = base_dados.iloc[:, 2].values # infectados\n",
        "y2 = base_dados.iloc[:, 3].values # mortes\n",
        "\n",
        "# estimando os parâmetros: beta, gamma\n",
        "h = 0.414;\n",
        "val_inic = [210147124, 1, 0, 210147125] # valores iniciais: S(1), I(1), D(1), N(1)\n",
        "param = [0.4, 0.02]\n",
        "n = len(base_dados)\n",
        "sol = optimize.fmin_bfgs(model_sid_trap, param, disp=0)\n",
        "print(sol) # beta e gamma\n",
        "\n",
        "# obtendo I_exata, D_exata, S_exata usando os valores dos parâmetros estimados\n",
        "param = sol # param = [sol[0], sol[1], sol[2]] # param = [0.001, 0.46228, 0.0085] # parâmetros: h, beta, gamma\n",
        "n = len(base_dados)\n",
        "I_exata = np.zeros(n); D_exata = np.zeros(n); S_exata = np.zeros(n); N_exata = np.zeros(n);\n",
        "I_exata[0] = val_inic[1]; D_exata[0] = val_inic[2]; S_exata[0] = val_inic[0]; N = val_inic[3]\n",
        "beta = param[0]; gamma = param[1];\n",
        "for i in range(0, n-1):\n",
        "  I_exata[i+1] = ((1 + (h / 2) * ((beta / N) * S_exata[i] - gamma)) / (1 - (h / 2) * ((beta / N) * S_exata[i] - gamma))) * I_exata[i]\n",
        "  D_exata[i+1] = D_exata[i] + gamma * (h / 2) * (I_exata[i+1] + I_exata[i])\n",
        "  S_exata[i+1] = N - I_exata[i+1] - D_exata[i+1]"
      ],
      "execution_count": 16,
      "outputs": [
        {
          "output_type": "stream",
          "text": [
            "[0.32526616 0.01680204]\n"
          ],
          "name": "stdout"
        }
      ]
    },
    {
      "cell_type": "code",
      "metadata": {
        "id": "X7km9YZAyrsy",
        "colab_type": "code",
        "colab": {
          "base_uri": "https://localhost:8080/",
          "height": 51
        },
        "outputId": "2f72f190-5606-46ba-b244-d49bb0cc38e5"
      },
      "source": [
        "# p = (log(||e_h1|| / ||e_h2||)) / (log(h1 / h2))\n",
        "\n",
        "# solução: I_sol1, D_sol1, S_sol1 (h = 0.333)\n",
        "# solução: I_sol2, D_sol2, S_sol2 (h = 0.344)\n",
        "# solução exata: I_exata, D_exata, S_exata (h = 0.414)\n",
        "\n",
        "h1 = 0.333; h2 = 0.344;\n",
        "h = [h1, h2]\n",
        "\n",
        "eh1 = np.linalg.norm(I_exata - I_sol1, np.inf)\n",
        "eh2 = np.linalg.norm(I_exata - I_sol2, np.inf)\n",
        "p_I = np.log(eh1 / eh2) / np.log(h[0] / h[1])\n",
        "\n",
        "eh1 = np.linalg.norm(D_exata - D_sol1, np.inf)\n",
        "eh2 = np.linalg.norm(D_exata - D_sol2, np.inf)\n",
        "p_D = np.log(eh1 / eh2) / np.log(h[1] / h[0])\n",
        "\n",
        "print(f'Trapézio: p_I = {p_I:.4f}')\n",
        "print(f'Trapézio: p_D = {p_D:.4f}')"
      ],
      "execution_count": 17,
      "outputs": [
        {
          "output_type": "stream",
          "text": [
            "Trapézio: p_I = 2.0829\n",
            "Trapézio: p_D = 2.0376\n"
          ],
          "name": "stdout"
        }
      ]
    },
    {
      "cell_type": "markdown",
      "metadata": {
        "id": "oqWez0NRtyg3",
        "colab_type": "text"
      },
      "source": [
        "#####**Pico da pandeia para população de infectados**"
      ]
    },
    {
      "cell_type": "code",
      "metadata": {
        "id": "nqlaQljPGBhV",
        "colab_type": "code",
        "colab": {
          "base_uri": "https://localhost:8080/",
          "height": 312
        },
        "outputId": "12fc9c27-f41c-408b-b720-fa016e2d3367"
      },
      "source": [
        "# solução com h = 0.33\n",
        "t = base_dados.iloc[:, 1].values # dias_num\n",
        "y1 = base_dados.iloc[:, 2].values # infectados\n",
        "h = 0.333\n",
        "n = len(base_dados)\n",
        "sol1 = optimize.fmin_bfgs(model_sid_trap, param, disp=0)\n",
        "\n",
        "#  obtendo dados para a projeção e valores de pico de infectados\n",
        "beta = sol1[0]; gamma = sol1[1];\n",
        "n = len(base_dados)+100\n",
        "I = np.zeros(n); D = np.zeros(n); S = np.zeros(n); N = np.zeros(n);\n",
        "I[0] = val_inic[1]; D[0] = val_inic[2]; S[0] = val_inic[0]; N = val_inic[3]\n",
        "for i in range(0, n-1):\n",
        "  I[i+1] = ((1 + (h / 2) * ((beta / N) * S[i] - gamma)) / (1 - (h / 2) * ((beta / N) * S[i] - gamma))) * I[i]\n",
        "  D[i+1] = D[i] + gamma * (h / 2) * (I[i+1] + I[i])\n",
        "  S[i+1] = N - I[i+1] - D[i+1]\n",
        "for i in range(0, n-1):\n",
        "  if I[i+1] < I[i]:\n",
        "    if (I[i+1] < I[i]) and (I[i+1] <= I[i-1]):\n",
        "      I_max = I[i]\n",
        "      dia_max = i\n",
        "      print(f\"O pico de infectados se dá no {i}º dia, com o valor de {round(I[i+1])}.\")\n",
        "      break\n",
        "\n",
        "ax = plt.subplot(111)\n",
        "ax.plot(t, y1, \".\", color = \"blue\")\n",
        "ax.plot(np.arange(1, len(I)+1, 1), I, \"-\", color = \"black\", label = \"projeção de infectados\")\n",
        "ax.axhline(y = I_max, xmin = 0, xmax = max(t), color = \"darkblue\", label = \"máximo infectados (I)\", linestyle = '--')\n",
        "ax.axvline(x = dia_max, ymin = 0, ymax = max(t), color = \"darkgreen\", label = \"dia do máximo de infectados (I)\", linestyle = '--')\n",
        "plt.xlabel(\"Dias\")\n",
        "plt.ylabel(\"Infectados\")\n",
        "plt.title(\"Projeção do nº acumulado de infectados no Brasil\")\n",
        "\n",
        "box = ax.get_position()\n",
        "ax.set_position([box.x0, box.y0, box.width * 1.0, box.height])\n",
        "ax.legend(loc='center left', bbox_to_anchor=(1, 0.89))\n",
        "plt.show()"
      ],
      "execution_count": 18,
      "outputs": [
        {
          "output_type": "stream",
          "text": [
            "O pico de infectados se dá no 173º dia, com o valor de 168384435.0.\n"
          ],
          "name": "stdout"
        },
        {
          "output_type": "display_data",
          "data": {
            "image/png": "[encoded data removed]",
            "text/plain": [
              "<Figure size 432x288 with 1 Axes>"
            ]
          },
          "metadata": {
            "tags": [],
            "needs_background": "light"
          }
        }
      ]
    }
  ]
}