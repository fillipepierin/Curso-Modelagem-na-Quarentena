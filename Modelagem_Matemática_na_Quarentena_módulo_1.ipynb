{
  "nbformat": 4,
  "nbformat_minor": 0,
  "metadata": {
    "colab": {
      "name": "Modelagem Matemática na Quarentena - módulo 1.ipynb",
      "provenance": [],
      "collapsed_sections": [],
      "toc_visible": true
    },
    "kernelspec": {
      "name": "python3",
      "display_name": "Python 3"
    }
  },
  "cells": [
    {
      "cell_type": "markdown",
      "metadata": {
        "id": "3hq9AmSA-71g",
        "colab_type": "text"
      },
      "source": [
        "# **Modelagem Matemática na Quarentena**\n",
        "**módulo 1 - métodos de mínimos quadrados**\n"
      ]
    },
    {
      "cell_type": "markdown",
      "metadata": {
        "id": "I_XXUMlMyBrG",
        "colab_type": "text"
      },
      "source": [
        "Carregando os pacotes necessários"
      ]
    },
    {
      "cell_type": "code",
      "metadata": {
        "id": "aK0BxQRQ3t8_",
        "colab_type": "code",
        "outputId": "943f4a43-59f8-4bef-9134-a78e2836bfeb",
        "colab": {
          "base_uri": "https://localhost:8080/",
          "height": 71
        }
      },
      "source": [
        "import numpy as np\n",
        "import matplotlib.pyplot as plt\n",
        "import pandas as pd\n",
        "import statsmodels.api as sm\n",
        "import math"
      ],
      "execution_count": 1,
      "outputs": [
        {
          "output_type": "stream",
          "text": [
            "/usr/local/lib/python3.6/dist-packages/statsmodels/tools/_testing.py:19: FutureWarning: pandas.util.testing is deprecated. Use the functions in the public API at pandas.testing instead.\n",
            "  import pandas.util.testing as tm\n"
          ],
          "name": "stderr"
        }
      ]
    },
    {
      "cell_type": "markdown",
      "metadata": {
        "id": "ApEIGBx_p5BQ",
        "colab_type": "text"
      },
      "source": [
        "***ANÁLISE I - DADOS POPULACIONAIS DO BRASIL***"
      ]
    },
    {
      "cell_type": "markdown",
      "metadata": {
        "id": "cn2C-zT_yeX8",
        "colab_type": "text"
      },
      "source": [
        "Carregando os dados"
      ]
    },
    {
      "cell_type": "code",
      "metadata": {
        "id": "xbJQNFqlxG0F",
        "colab_type": "code",
        "outputId": "8744d91a-7dfa-48fd-b3f6-492b79664653",
        "colab": {
          "base_uri": "https://localhost:8080/",
          "height": 204
        }
      },
      "source": [
        "base_dados = pd.read_csv('populacao-brasil-1.csv', sep = \";\") # população brasileira\n",
        "base_dados.head()"
      ],
      "execution_count": 2,
      "outputs": [
        {
          "output_type": "execute_result",
          "data": {
            "text/html": [
              "<div>\n",
              "<style scoped>\n",
              "    .dataframe tbody tr th:only-of-type {\n",
              "        vertical-align: middle;\n",
              "    }\n",
              "\n",
              "    .dataframe tbody tr th {\n",
              "        vertical-align: top;\n",
              "    }\n",
              "\n",
              "    .dataframe thead th {\n",
              "        text-align: right;\n",
              "    }\n",
              "</style>\n",
              "<table border=\"1\" class=\"dataframe\">\n",
              "  <thead>\n",
              "    <tr style=\"text-align: right;\">\n",
              "      <th></th>\n",
              "      <th>Ano</th>\n",
              "      <th>Populacao</th>\n",
              "    </tr>\n",
              "  </thead>\n",
              "  <tbody>\n",
              "    <tr>\n",
              "      <th>0</th>\n",
              "      <td>1550</td>\n",
              "      <td>15000</td>\n",
              "    </tr>\n",
              "    <tr>\n",
              "      <th>1</th>\n",
              "      <td>1576</td>\n",
              "      <td>17100</td>\n",
              "    </tr>\n",
              "    <tr>\n",
              "      <th>2</th>\n",
              "      <td>1583</td>\n",
              "      <td>57000</td>\n",
              "    </tr>\n",
              "    <tr>\n",
              "      <th>3</th>\n",
              "      <td>1600</td>\n",
              "      <td>100000</td>\n",
              "    </tr>\n",
              "    <tr>\n",
              "      <th>4</th>\n",
              "      <td>1660</td>\n",
              "      <td>184000</td>\n",
              "    </tr>\n",
              "  </tbody>\n",
              "</table>\n",
              "</div>"
            ],
            "text/plain": [
              "    Ano  Populacao\n",
              "0  1550      15000\n",
              "1  1576      17100\n",
              "2  1583      57000\n",
              "3  1600     100000\n",
              "4  1660     184000"
            ]
          },
          "metadata": {
            "tags": []
          },
          "execution_count": 2
        }
      ]
    },
    {
      "cell_type": "code",
      "metadata": {
        "id": "RZbaKttv5e9W",
        "colab_type": "code",
        "outputId": "5734b351-8d41-4a73-b7d7-cfce4c4f9711",
        "colab": {
          "base_uri": "https://localhost:8080/",
          "height": 297
        }
      },
      "source": [
        "base_dados.describe()"
      ],
      "execution_count": 3,
      "outputs": [
        {
          "output_type": "execute_result",
          "data": {
            "text/html": [
              "<div>\n",
              "<style scoped>\n",
              "    .dataframe tbody tr th:only-of-type {\n",
              "        vertical-align: middle;\n",
              "    }\n",
              "\n",
              "    .dataframe tbody tr th {\n",
              "        vertical-align: top;\n",
              "    }\n",
              "\n",
              "    .dataframe thead th {\n",
              "        text-align: right;\n",
              "    }\n",
              "</style>\n",
              "<table border=\"1\" class=\"dataframe\">\n",
              "  <thead>\n",
              "    <tr style=\"text-align: right;\">\n",
              "      <th></th>\n",
              "      <th>Ano</th>\n",
              "      <th>Populacao</th>\n",
              "    </tr>\n",
              "  </thead>\n",
              "  <tbody>\n",
              "    <tr>\n",
              "      <th>count</th>\n",
              "      <td>90.000000</td>\n",
              "      <td>9.000000e+01</td>\n",
              "    </tr>\n",
              "    <tr>\n",
              "      <th>mean</th>\n",
              "      <td>1939.900000</td>\n",
              "      <td>1.078154e+08</td>\n",
              "    </tr>\n",
              "    <tr>\n",
              "      <th>std</th>\n",
              "      <td>106.277256</td>\n",
              "      <td>6.912442e+07</td>\n",
              "    </tr>\n",
              "    <tr>\n",
              "      <th>min</th>\n",
              "      <td>1550.000000</td>\n",
              "      <td>1.500000e+04</td>\n",
              "    </tr>\n",
              "    <tr>\n",
              "      <th>25%</th>\n",
              "      <td>1953.250000</td>\n",
              "      <td>5.862077e+07</td>\n",
              "    </tr>\n",
              "    <tr>\n",
              "      <th>50%</th>\n",
              "      <td>1975.500000</td>\n",
              "      <td>1.084462e+08</td>\n",
              "    </tr>\n",
              "    <tr>\n",
              "      <th>75%</th>\n",
              "      <td>1997.750000</td>\n",
              "      <td>1.685535e+08</td>\n",
              "    </tr>\n",
              "    <tr>\n",
              "      <th>max</th>\n",
              "      <td>2020.000000</td>\n",
              "      <td>2.165525e+08</td>\n",
              "    </tr>\n",
              "  </tbody>\n",
              "</table>\n",
              "</div>"
            ],
            "text/plain": [
              "               Ano     Populacao\n",
              "count    90.000000  9.000000e+01\n",
              "mean   1939.900000  1.078154e+08\n",
              "std     106.277256  6.912442e+07\n",
              "min    1550.000000  1.500000e+04\n",
              "25%    1953.250000  5.862077e+07\n",
              "50%    1975.500000  1.084462e+08\n",
              "75%    1997.750000  1.685535e+08\n",
              "max    2020.000000  2.165525e+08"
            ]
          },
          "metadata": {
            "tags": []
          },
          "execution_count": 3
        }
      ]
    },
    {
      "cell_type": "markdown",
      "metadata": {
        "id": "CRogs50oyhgl",
        "colab_type": "text"
      },
      "source": [
        "Fazendo os calculos intermediários"
      ]
    },
    {
      "cell_type": "code",
      "metadata": {
        "id": "qi4ilo-uw_ID",
        "colab_type": "code",
        "colab": {}
      },
      "source": [
        "soma_x = sum(base_dados.iloc[:,0].values)\n",
        "soma_x2 = sum(base_dados.iloc[:,0].values**2)\n",
        "soma_x3 = sum(base_dados.iloc[:,0].values**3)\n",
        "soma_x4 = sum(base_dados.iloc[:,0].values**4)\n",
        "\n",
        "soma_y = sum(base_dados.iloc[:,1].values)\n",
        "soma_lny = sum(np.log(base_dados.iloc[:,1].values))\n",
        "\n",
        "soma_xy = sum(base_dados.iloc[:,0].values * base_dados.iloc[:,1].values)\n",
        "soma_x2y = sum(base_dados.iloc[:,0].values**2 * base_dados.iloc[:,1].values)\n",
        "soma_xlny = sum(base_dados.iloc[:,0].values * np.log(base_dados.iloc[:,1].values))\n",
        "soma_x2lny = sum(base_dados.iloc[:,0].values**2 * np.log(base_dados.iloc[:,1].values))\n",
        "\n",
        "m = len(base_dados.iloc[:,0].values)\n",
        "alpha = m * soma_x2 - (soma_x)**2"
      ],
      "execution_count": 0,
      "outputs": []
    },
    {
      "cell_type": "markdown",
      "metadata": {
        "id": "-wVMhwk2wxj-",
        "colab_type": "text"
      },
      "source": [
        "*Modelo Linear*"
      ]
    },
    {
      "cell_type": "code",
      "metadata": {
        "id": "bWTt1qZs6RKQ",
        "colab_type": "code",
        "outputId": "4a692d21-1e47-4a9b-db03-1d9567029445",
        "colab": {
          "base_uri": "https://localhost:8080/",
          "height": 51
        }
      },
      "source": [
        "a0 = (1 / alpha) * (soma_y * soma_x2 - soma_x * soma_xy)\n",
        "a1 = (1 / alpha) * (m * soma_xy - soma_x * soma_y)\n",
        "print(f'Modelo linear: f(x) = {a0} + {a1}x')\n",
        "\n",
        "x = base_dados.iloc[:, 0].values\n",
        "y = base_dados.iloc[:, 1].values\n",
        "y_hat_linear = a0 + a1 * x\n",
        "erro_linear = sum((y_hat_linear - base_dados.iloc[:,1].values)**2)\n",
        "print(f'Erro: E = {erro_linear:.1e}')"
      ],
      "execution_count": 5,
      "outputs": [
        {
          "output_type": "stream",
          "text": [
            "Modelo linear: f(x) = -852651520.5527421 + 495111.5801659123x\n",
            "Erro: E = 1.8e+17\n"
          ],
          "name": "stdout"
        }
      ]
    },
    {
      "cell_type": "code",
      "metadata": {
        "id": "yupH68qovLBI",
        "colab_type": "code",
        "outputId": "533afd80-4a94-454a-f500-4242e2666651",
        "colab": {
          "base_uri": "https://localhost:8080/",
          "height": 295
        }
      },
      "source": [
        "plt.scatter(x, y, color = \"black\", linewidths = 1e-5)\n",
        "plt.plot(x, y_hat_linear, color = \"blue\")\n",
        "plt.xlabel(\"dias x\")\n",
        "plt.ylabel(\"mortes y\")\n",
        "plt.title(\"Modelo linear\")\n",
        "plt.show()"
      ],
      "execution_count": 6,
      "outputs": [
        {
          "output_type": "display_data",
          "data": {
            "image/png": "[encoded data removed]",
            "text/plain": [
              "<Figure size 432x288 with 1 Axes>"
            ]
          },
          "metadata": {
            "tags": [],
            "needs_background": "light"
          }
        }
      ]
    },
    {
      "cell_type": "code",
      "metadata": {
        "id": "EtMrIyPzTs2o",
        "colab_type": "code",
        "outputId": "d6648372-e5e4-48d7-a312-33acf07eaa1d",
        "colab": {
          "base_uri": "https://localhost:8080/",
          "height": 51
        }
      },
      "source": [
        "# Erros\n",
        "erro_absoluto_linear = np.absolute(y_hat_linear - base_dados.iloc[:, 1].values).mean()\n",
        "erro_relativo_linear = np.absolute(y_hat_linear - base_dados.iloc[:, 1].values).mean() / np.absolute(base_dados.iloc[:, 1].values).mean()\n",
        "print(f'Erro Absoluto: {erro_absoluto_linear:.4e}')\n",
        "print(f'Erro Relativo: {erro_relativo_linear:.4}')"
      ],
      "execution_count": 7,
      "outputs": [
        {
          "output_type": "stream",
          "text": [
            "Erro Absoluto: 3.9615e+07\n",
            "Erro Relativo: 0.3674\n"
          ],
          "name": "stdout"
        }
      ]
    },
    {
      "cell_type": "markdown",
      "metadata": {
        "id": "SiS4N-_Vwxy2",
        "colab_type": "text"
      },
      "source": [
        "*Modelo Exponencial*\n"
      ]
    },
    {
      "cell_type": "code",
      "metadata": {
        "id": "oLkfyc9pxI6g",
        "colab_type": "code",
        "outputId": "75cd28c5-8f19-44cf-98c8-38db6866d782",
        "colab": {
          "base_uri": "https://localhost:8080/",
          "height": 51
        }
      },
      "source": [
        "lamb = np.exp((1 / alpha) * (soma_lny * soma_x2 - soma_x * soma_xlny))\n",
        "beta = (1 / alpha) * (m * soma_xlny - soma_x * soma_lny)\n",
        "print(f'Modelo exponencial: f(x) = {lamb}exp({beta}x)')\n",
        "\n",
        "x = base_dados.iloc[:, 0].values\n",
        "y = base_dados.iloc[:, 1].values\n",
        "y_hat_exp = lamb * np.exp(beta * x)\n",
        "erro_exp = sum((y_hat_exp - base_dados.iloc[:,1].values)**2)\n",
        "print(f'Erro: E = {erro_exp:.1e}')"
      ],
      "execution_count": 8,
      "outputs": [
        {
          "output_type": "stream",
          "text": [
            "Modelo exponencial: f(x) = 3.8966262218155477e-10exp(0.020297594421441682x)\n",
            "Erro: E = 8.8e+15\n"
          ],
          "name": "stdout"
        }
      ]
    },
    {
      "cell_type": "code",
      "metadata": {
        "id": "Ept4tNHSxJBD",
        "colab_type": "code",
        "outputId": "568536c0-6f4b-4743-8e08-2e306dc1a324",
        "colab": {
          "base_uri": "https://localhost:8080/",
          "height": 295
        }
      },
      "source": [
        "plt.scatter(x, y, color = \"black\", linewidths = 1e-5)\n",
        "plt.plot(x, y_hat_exp, color = \"blue\")\n",
        "plt.xlabel(\"dias x\")\n",
        "plt.ylabel(\"mortes y\")\n",
        "plt.title(\"Modelo exponencial\")\n",
        "plt.show()"
      ],
      "execution_count": 9,
      "outputs": [
        {
          "output_type": "display_data",
          "data": {
            "image/png": "[encoded data removed]",
            "text/plain": [
              "<Figure size 432x288 with 1 Axes>"
            ]
          },
          "metadata": {
            "tags": [],
            "needs_background": "light"
          }
        }
      ]
    },
    {
      "cell_type": "code",
      "metadata": {
        "id": "3F-b8GDbTu2A",
        "colab_type": "code",
        "outputId": "2d5c8f87-8d20-43f6-a169-0491429a144f",
        "colab": {
          "base_uri": "https://localhost:8080/",
          "height": 51
        }
      },
      "source": [
        "# Erros\n",
        "erro_absoluto_exp = np.absolute(y_hat_exp - base_dados.iloc[:, 1].values).mean()\n",
        "erro_relativo_exp = np.absolute(y_hat_exp - base_dados.iloc[:, 1].values).mean() / np.absolute(base_dados.iloc[:, 1].values).mean()\n",
        "print(f'Erro Absoluto: {erro_absoluto_exp:.4e}')\n",
        "print(f'Erro Relativo: {erro_relativo_exp:.4}')"
      ],
      "execution_count": 10,
      "outputs": [
        {
          "output_type": "stream",
          "text": [
            "Erro Absoluto: 7.2566e+06\n",
            "Erro Relativo: 0.06731\n"
          ],
          "name": "stdout"
        }
      ]
    },
    {
      "cell_type": "markdown",
      "metadata": {
        "id": "cCpBePSmwx6g",
        "colab_type": "text"
      },
      "source": [
        "*Modelo Quadrático*"
      ]
    },
    {
      "cell_type": "code",
      "metadata": {
        "id": "KUQoVtdlxIcn",
        "colab_type": "code",
        "outputId": "fd6da266-8c17-445b-d3f7-2c62d6c6ec54",
        "colab": {
          "base_uri": "https://localhost:8080/",
          "height": 51
        }
      },
      "source": [
        "A = (m * soma_xy - soma_x * soma_y) / (m * soma_x2 - (soma_x)**2)\n",
        "B = (m * soma_x3 - soma_x2 * soma_x) / (m * soma_x2 - (soma_x)**2)\n",
        "C = soma_x3 - (1 / m) * (soma_x * soma_x2)\n",
        "a2 = (m * soma_x2y - soma_x2 * soma_y - m * A * C)/(m * soma_x4 - (soma_x2)**2 - m * B * C)\n",
        "a1 = A - B * a2\n",
        "a0 = (1 / m) * (soma_y - A * soma_x - (soma_x2 - B * soma_x) * a2)\n",
        "print(f'Modelo quadrático: f(x) = {a0} + {a1}x + {a2}x^2')\n",
        "\n",
        "x = base_dados.iloc[:, 0].values\n",
        "y = base_dados.iloc[:, 1].values\n",
        "y_hat_quad = a0 + a1 * x + a2 * (x)**2\n",
        "erro_quad = sum((y_hat_quad - base_dados.iloc[:,1].values)**2)\n",
        "print(f'Erro: E = {erro_quad:.1e}')"
      ],
      "execution_count": 11,
      "outputs": [
        {
          "output_type": "stream",
          "text": [
            "Modelo quadrático: f(x) = 8944186830.994364 + -10368965.606485847x + 2988.1413368673743x^2\n",
            "Erro: E = 4.8e+16\n"
          ],
          "name": "stdout"
        }
      ]
    },
    {
      "cell_type": "code",
      "metadata": {
        "id": "7bXaCi8XxIjj",
        "colab_type": "code",
        "outputId": "cf6641d5-78c5-42eb-8c6e-2f49dcd04386",
        "colab": {
          "base_uri": "https://localhost:8080/",
          "height": 295
        }
      },
      "source": [
        "plt.scatter(x, y, color = \"black\", linewidths = 1e-5)\n",
        "plt.plot(x, y_hat_quad, color = \"blue\")\n",
        "plt.xlabel(\"dias x\")\n",
        "plt.ylabel(\"mortes y\")\n",
        "plt.title(\"Modelo quadrático\")\n",
        "plt.show()"
      ],
      "execution_count": 12,
      "outputs": [
        {
          "output_type": "display_data",
          "data": {
            "image/png": "[encoded data removed]",
            "text/plain": [
              "<Figure size 432x288 with 1 Axes>"
            ]
          },
          "metadata": {
            "tags": [],
            "needs_background": "light"
          }
        }
      ]
    },
    {
      "cell_type": "code",
      "metadata": {
        "id": "eXrUBqVlUOif",
        "colab_type": "code",
        "outputId": "1053e06d-d957-43e2-c5ea-29d8e9ccb701",
        "colab": {
          "base_uri": "https://localhost:8080/",
          "height": 51
        }
      },
      "source": [
        "# Erros\n",
        "erro_absoluto_quad = np.absolute(y_hat_quad - base_dados.iloc[:, 1].values).mean()\n",
        "erro_relativo_quad = np.absolute(y_hat_quad - base_dados.iloc[:, 1].values).mean() / np.absolute(base_dados.iloc[:, 1].values).mean()\n",
        "print(f'Erro Absoluto: {erro_absoluto_quad:.4e}')\n",
        "print(f'Erro Relativo: {erro_relativo_quad:.4}')"
      ],
      "execution_count": 13,
      "outputs": [
        {
          "output_type": "stream",
          "text": [
            "Erro Absoluto: 2.0109e+07\n",
            "Erro Relativo: 0.1865\n"
          ],
          "name": "stdout"
        }
      ]
    },
    {
      "cell_type": "markdown",
      "metadata": {
        "id": "NXdJH841wyA1",
        "colab_type": "text"
      },
      "source": [
        "*Modelo Exponencial de uma Quadrática*"
      ]
    },
    {
      "cell_type": "code",
      "metadata": {
        "id": "yD_uCNHlxHyf",
        "colab_type": "code",
        "outputId": "a6786401-240d-4231-e6e0-4c106219e026",
        "colab": {
          "base_uri": "https://localhost:8080/",
          "height": 51
        }
      },
      "source": [
        "A = (m * soma_xlny - soma_x * soma_lny) / (m * soma_x2 - (soma_x)**2)\n",
        "B = (m * soma_x3 - soma_x2 * soma_x) / (m * soma_x2 - (soma_x)**2)\n",
        "C = soma_x3 - (1 / m) * (soma_x * soma_x2)\n",
        "a2 = (m * soma_x2lny - soma_x2 * soma_lny - m * A * C)/(m * soma_x4 - (soma_x2)**2 - m * B * C)\n",
        "a1 = A - B * a2\n",
        "a0 = (1 / m) * (soma_lny - A * soma_x - (soma_x2 - B * soma_x) * a2)\n",
        "print(f'Modelo exponencial de uma quadrática: f(x) = exp({a0} + {a1}x + {a2}x^2)')\n",
        "\n",
        "x = base_dados.iloc[:, 0].values\n",
        "y = base_dados.iloc[:, 1].values\n",
        "y_hat_exp_quad = np.exp(a0 + a1 * x + a2 * (x)**2)\n",
        "erro_exp_quad = sum((y_hat_exp_quad - base_dados.iloc[:,1].values)**2)\n",
        "print(f'E = {erro_exp_quad:.1e}')"
      ],
      "execution_count": 14,
      "outputs": [
        {
          "output_type": "stream",
          "text": [
            "Modelo exponencial de uma quadrática: f(x) = exp(-17.177960379080893 + 0.015320929448446475x + 1.3688211221306755e-06x^2)\n",
            "E = 1.0e+16\n"
          ],
          "name": "stdout"
        }
      ]
    },
    {
      "cell_type": "code",
      "metadata": {
        "id": "rlQleElPxH1I",
        "colab_type": "code",
        "outputId": "093109a9-1101-44bc-cf36-9f75f02faa3d",
        "colab": {
          "base_uri": "https://localhost:8080/",
          "height": 295
        }
      },
      "source": [
        "plt.scatter(x, y, color = \"black\", linewidths = 1e-5)\n",
        "plt.plot(x, y_hat_exp_quad, color = \"blue\")\n",
        "plt.xlabel(\"dias x\")\n",
        "plt.ylabel(\"mortes y\")\n",
        "plt.title(\"Modelo exponencial(quadrática)\")\n",
        "plt.show()"
      ],
      "execution_count": 15,
      "outputs": [
        {
          "output_type": "display_data",
          "data": {
            "image/png": "[encoded data removed]",
            "text/plain": [
              "<Figure size 432x288 with 1 Axes>"
            ]
          },
          "metadata": {
            "tags": [],
            "needs_background": "light"
          }
        }
      ]
    },
    {
      "cell_type": "code",
      "metadata": {
        "id": "XuxOL6yUUZhL",
        "colab_type": "code",
        "outputId": "18082c99-3cb3-4810-e354-9c4e0ead2981",
        "colab": {
          "base_uri": "https://localhost:8080/",
          "height": 51
        }
      },
      "source": [
        "# Erros\n",
        "erro_absoluto_exp_quad = np.absolute(y_hat_exp_quad - base_dados.iloc[:, 1].values).mean()\n",
        "erro_relativo_exp_quad = np.absolute(y_hat_exp_quad - base_dados.iloc[:, 1].values).mean() / np.absolute(base_dados.iloc[:, 1].values).mean()\n",
        "print(f'Erro Absoluto: {erro_absoluto_exp_quad:.4e}')\n",
        "print(f'Erro Relativo: {erro_relativo_exp_quad:.4}')"
      ],
      "execution_count": 16,
      "outputs": [
        {
          "output_type": "stream",
          "text": [
            "Erro Absoluto: 7.4763e+06\n",
            "Erro Relativo: 0.06934\n"
          ],
          "name": "stdout"
        }
      ]
    },
    {
      "cell_type": "markdown",
      "metadata": {
        "id": "1ONZFmzJJzUc",
        "colab_type": "text"
      },
      "source": [
        "Comparação entre os erros dos modelos de mínimos quadrados"
      ]
    },
    {
      "cell_type": "code",
      "metadata": {
        "id": "470adyLtOUeu",
        "colab_type": "code",
        "outputId": "202ce865-dd50-4348-9470-d6f3e61895c9",
        "colab": {
          "base_uri": "https://localhost:8080/",
          "height": 173
        }
      },
      "source": [
        "data = {\n",
        "'Modelo': ['linear', 'exponencial', 'quadrático', 'exponencial de quadrática'],\n",
        "'Erro (E)': [erro_linear, erro_exp, erro_quad, erro_exp_quad],\n",
        "'Erro Relativo': [erro_relativo_linear, erro_relativo_exp, erro_relativo_quad, erro_relativo_exp_quad]\n",
        "}\n",
        "erros = pd.DataFrame(data, columns=['Modelo', 'Erro (E)', 'Erro Relativo'])\n",
        "erros"
      ],
      "execution_count": 17,
      "outputs": [
        {
          "output_type": "execute_result",
          "data": {
            "text/html": [
              "<div>\n",
              "<style scoped>\n",
              "    .dataframe tbody tr th:only-of-type {\n",
              "        vertical-align: middle;\n",
              "    }\n",
              "\n",
              "    .dataframe tbody tr th {\n",
              "        vertical-align: top;\n",
              "    }\n",
              "\n",
              "    .dataframe thead th {\n",
              "        text-align: right;\n",
              "    }\n",
              "</style>\n",
              "<table border=\"1\" class=\"dataframe\">\n",
              "  <thead>\n",
              "    <tr style=\"text-align: right;\">\n",
              "      <th></th>\n",
              "      <th>Modelo</th>\n",
              "      <th>Erro (E)</th>\n",
              "      <th>Erro Relativo</th>\n",
              "    </tr>\n",
              "  </thead>\n",
              "  <tbody>\n",
              "    <tr>\n",
              "      <th>0</th>\n",
              "      <td>linear</td>\n",
              "      <td>1.788380e+17</td>\n",
              "      <td>0.367434</td>\n",
              "    </tr>\n",
              "    <tr>\n",
              "      <th>1</th>\n",
              "      <td>exponencial</td>\n",
              "      <td>8.827759e+15</td>\n",
              "      <td>0.067306</td>\n",
              "    </tr>\n",
              "    <tr>\n",
              "      <th>2</th>\n",
              "      <td>quadrático</td>\n",
              "      <td>4.793150e+16</td>\n",
              "      <td>0.186515</td>\n",
              "    </tr>\n",
              "    <tr>\n",
              "      <th>3</th>\n",
              "      <td>exponencial de quadrática</td>\n",
              "      <td>1.045309e+16</td>\n",
              "      <td>0.069344</td>\n",
              "    </tr>\n",
              "  </tbody>\n",
              "</table>\n",
              "</div>"
            ],
            "text/plain": [
              "                      Modelo      Erro (E)  Erro Relativo\n",
              "0                     linear  1.788380e+17       0.367434\n",
              "1                exponencial  8.827759e+15       0.067306\n",
              "2                 quadrático  4.793150e+16       0.186515\n",
              "3  exponencial de quadrática  1.045309e+16       0.069344"
            ]
          },
          "metadata": {
            "tags": []
          },
          "execution_count": 17
        }
      ]
    },
    {
      "cell_type": "markdown",
      "metadata": {
        "id": "wFPiUu29SJN0",
        "colab_type": "text"
      },
      "source": [
        "Dados do Futuro"
      ]
    },
    {
      "cell_type": "code",
      "metadata": {
        "id": "UUkWsVHqSH6C",
        "colab_type": "code",
        "outputId": "5fbccf79-7bdf-4b37-a3d5-2e635deba7a7",
        "colab": {
          "base_uri": "https://localhost:8080/",
          "height": 295
        }
      },
      "source": [
        "x = base_dados.iloc[:, 0].values\n",
        "y = base_dados.iloc[:, 1].values\n",
        "y_hat_exp = lamb * np.exp(beta * np.arange(1500, 2500, 1))\n",
        "plt.scatter(x, y, color = \"black\", linewidths = 1e-5)\n",
        "plt.plot(np.arange(1500, 2500, 1), y_hat_exp, color = \"blue\")\n",
        "plt.xlabel(\"dias x\")\n",
        "plt.ylabel(\"mortes y\")\n",
        "plt.title(\"Modelo exponencial - previsão\")\n",
        "plt.show()"
      ],
      "execution_count": 18,
      "outputs": [
        {
          "output_type": "display_data",
          "data": {
            "image/png": "[encoded data removed]",
            "text/plain": [
              "<Figure size 432x288 with 1 Axes>"
            ]
          },
          "metadata": {
            "tags": [],
            "needs_background": "light"
          }
        }
      ]
    },
    {
      "cell_type": "code",
      "metadata": {
        "id": "S7XZ0-ilHFnx",
        "colab_type": "code",
        "colab": {
          "base_uri": "https://localhost:8080/",
          "height": 68
        },
        "outputId": "d665d96a-66da-49aa-91c4-61cf1febb8e0"
      },
      "source": [
        "print(f'Em {2021} população do Brasil será de {lamb * np.exp(beta * 2021)} habitantes.')\n",
        "print(f'Em {2030} população do Brasil será de {lamb * np.exp(beta * 2030)} habitantes.')\n",
        "print(f'Em {2040} população do Brasil será de {lamb * np.exp(beta * 2040)} habitantes.')"
      ],
      "execution_count": 19,
      "outputs": [
        {
          "output_type": "stream",
          "text": [
            "Em 2021 população do Brasil será de 254725869.47589672 habitantes.\n",
            "Em 2030 população do Brasil será de 305780124.11781955 habitantes.\n",
            "Em 2040 população do Brasil será de 374593800.1375205 habitantes.\n"
          ],
          "name": "stdout"
        }
      ]
    },
    {
      "cell_type": "markdown",
      "metadata": {
        "id": "RxzOuUnjwoGa",
        "colab_type": "text"
      },
      "source": [
        "***ANÁISE II - CRESCIMENTO DE BACTÉRIA***"
      ]
    },
    {
      "cell_type": "markdown",
      "metadata": {
        "colab_type": "text",
        "id": "h59xE_MEq7IY"
      },
      "source": [
        "Carregando os dados"
      ]
    },
    {
      "cell_type": "code",
      "metadata": {
        "colab_type": "code",
        "outputId": "fce13692-9fd2-4658-f225-86683b72b68c",
        "id": "cJ-1r5Uwq7Ic",
        "colab": {
          "base_uri": "https://localhost:8080/",
          "height": 204
        }
      },
      "source": [
        "base_dados = pd.read_csv('bacteria.csv', sep = \";\") # número de bactérias por unidade de volume\n",
        "base_dados.head()"
      ],
      "execution_count": 20,
      "outputs": [
        {
          "output_type": "execute_result",
          "data": {
            "text/html": [
              "<div>\n",
              "<style scoped>\n",
              "    .dataframe tbody tr th:only-of-type {\n",
              "        vertical-align: middle;\n",
              "    }\n",
              "\n",
              "    .dataframe tbody tr th {\n",
              "        vertical-align: top;\n",
              "    }\n",
              "\n",
              "    .dataframe thead th {\n",
              "        text-align: right;\n",
              "    }\n",
              "</style>\n",
              "<table border=\"1\" class=\"dataframe\">\n",
              "  <thead>\n",
              "    <tr style=\"text-align: right;\">\n",
              "      <th></th>\n",
              "      <th>horas</th>\n",
              "      <th>volume_unitario</th>\n",
              "    </tr>\n",
              "  </thead>\n",
              "  <tbody>\n",
              "    <tr>\n",
              "      <th>0</th>\n",
              "      <td>0</td>\n",
              "      <td>32</td>\n",
              "    </tr>\n",
              "    <tr>\n",
              "      <th>1</th>\n",
              "      <td>1</td>\n",
              "      <td>47</td>\n",
              "    </tr>\n",
              "    <tr>\n",
              "      <th>2</th>\n",
              "      <td>2</td>\n",
              "      <td>65</td>\n",
              "    </tr>\n",
              "    <tr>\n",
              "      <th>3</th>\n",
              "      <td>3</td>\n",
              "      <td>92</td>\n",
              "    </tr>\n",
              "    <tr>\n",
              "      <th>4</th>\n",
              "      <td>4</td>\n",
              "      <td>132</td>\n",
              "    </tr>\n",
              "  </tbody>\n",
              "</table>\n",
              "</div>"
            ],
            "text/plain": [
              "   horas  volume_unitario\n",
              "0      0               32\n",
              "1      1               47\n",
              "2      2               65\n",
              "3      3               92\n",
              "4      4              132"
            ]
          },
          "metadata": {
            "tags": []
          },
          "execution_count": 20
        }
      ]
    },
    {
      "cell_type": "code",
      "metadata": {
        "colab_type": "code",
        "outputId": "cd7d77c4-ffe3-4374-fd68-d344e5912fc3",
        "id": "HaZagkqpq7Ij",
        "colab": {
          "base_uri": "https://localhost:8080/",
          "height": 297
        }
      },
      "source": [
        "base_dados.describe()"
      ],
      "execution_count": 21,
      "outputs": [
        {
          "output_type": "execute_result",
          "data": {
            "text/html": [
              "<div>\n",
              "<style scoped>\n",
              "    .dataframe tbody tr th:only-of-type {\n",
              "        vertical-align: middle;\n",
              "    }\n",
              "\n",
              "    .dataframe tbody tr th {\n",
              "        vertical-align: top;\n",
              "    }\n",
              "\n",
              "    .dataframe thead th {\n",
              "        text-align: right;\n",
              "    }\n",
              "</style>\n",
              "<table border=\"1\" class=\"dataframe\">\n",
              "  <thead>\n",
              "    <tr style=\"text-align: right;\">\n",
              "      <th></th>\n",
              "      <th>horas</th>\n",
              "      <th>volume_unitario</th>\n",
              "    </tr>\n",
              "  </thead>\n",
              "  <tbody>\n",
              "    <tr>\n",
              "      <th>count</th>\n",
              "      <td>7.000000</td>\n",
              "      <td>7.00000</td>\n",
              "    </tr>\n",
              "    <tr>\n",
              "      <th>mean</th>\n",
              "      <td>3.000000</td>\n",
              "      <td>119.00000</td>\n",
              "    </tr>\n",
              "    <tr>\n",
              "      <th>std</th>\n",
              "      <td>2.160247</td>\n",
              "      <td>87.50619</td>\n",
              "    </tr>\n",
              "    <tr>\n",
              "      <th>min</th>\n",
              "      <td>0.000000</td>\n",
              "      <td>32.00000</td>\n",
              "    </tr>\n",
              "    <tr>\n",
              "      <th>25%</th>\n",
              "      <td>1.500000</td>\n",
              "      <td>56.00000</td>\n",
              "    </tr>\n",
              "    <tr>\n",
              "      <th>50%</th>\n",
              "      <td>3.000000</td>\n",
              "      <td>92.00000</td>\n",
              "    </tr>\n",
              "    <tr>\n",
              "      <th>75%</th>\n",
              "      <td>4.500000</td>\n",
              "      <td>161.00000</td>\n",
              "    </tr>\n",
              "    <tr>\n",
              "      <th>max</th>\n",
              "      <td>6.000000</td>\n",
              "      <td>275.00000</td>\n",
              "    </tr>\n",
              "  </tbody>\n",
              "</table>\n",
              "</div>"
            ],
            "text/plain": [
              "          horas  volume_unitario\n",
              "count  7.000000          7.00000\n",
              "mean   3.000000        119.00000\n",
              "std    2.160247         87.50619\n",
              "min    0.000000         32.00000\n",
              "25%    1.500000         56.00000\n",
              "50%    3.000000         92.00000\n",
              "75%    4.500000        161.00000\n",
              "max    6.000000        275.00000"
            ]
          },
          "metadata": {
            "tags": []
          },
          "execution_count": 21
        }
      ]
    },
    {
      "cell_type": "markdown",
      "metadata": {
        "colab_type": "text",
        "id": "EyRJC5eJq7In"
      },
      "source": [
        "Fazendo os calculos intermediários"
      ]
    },
    {
      "cell_type": "code",
      "metadata": {
        "colab_type": "code",
        "id": "hvjLP3Znq7Io",
        "colab": {}
      },
      "source": [
        "soma_x = sum(base_dados.iloc[:,0].values)\n",
        "soma_x2 = sum(base_dados.iloc[:,0].values**2)\n",
        "soma_x3 = sum(base_dados.iloc[:,0].values**3)\n",
        "soma_x4 = sum(base_dados.iloc[:,0].values**4)\n",
        "\n",
        "soma_y = sum(base_dados.iloc[:,1].values)\n",
        "soma_lny = sum(np.log(base_dados.iloc[:,1].values))\n",
        "\n",
        "soma_xy = sum(base_dados.iloc[:,0].values * base_dados.iloc[:,1].values)\n",
        "soma_x2y = sum(base_dados.iloc[:,0].values**2 * base_dados.iloc[:,1].values)\n",
        "soma_xlny = sum(base_dados.iloc[:,0].values * np.log(base_dados.iloc[:,1].values))\n",
        "soma_x2lny = sum(base_dados.iloc[:,0].values**2 * np.log(base_dados.iloc[:,1].values))\n",
        "\n",
        "m = len(base_dados.iloc[:,0].values)\n",
        "alpha = m * soma_x2 - (soma_x)**2"
      ],
      "execution_count": 0,
      "outputs": []
    },
    {
      "cell_type": "markdown",
      "metadata": {
        "colab_type": "text",
        "id": "PVXEpOR6q7It"
      },
      "source": [
        "*Ajuste dos modelos*"
      ]
    },
    {
      "cell_type": "code",
      "metadata": {
        "colab_type": "code",
        "outputId": "406c7fc6-9f48-480b-8f0d-9f9b65af09b1",
        "id": "Kix3zJW-q7Iu",
        "colab": {
          "base_uri": "https://localhost:8080/",
          "height": 221
        }
      },
      "source": [
        "# modelo linear\n",
        "a0 = (1 / alpha) * (soma_y * soma_x2 - soma_x * soma_xy)\n",
        "a1 = (1 / alpha) * (m * soma_xy - soma_x * soma_y)\n",
        "print(f'Modelo linear: f(x) = {a0:.5} + {a1:.5}x')\n",
        "\n",
        "x = base_dados.iloc[:, 0].values\n",
        "y = base_dados.iloc[:, 1].values\n",
        "y_hat_linear = a0 + a1 * x\n",
        "erro_linear = sum((y_hat_linear - base_dados.iloc[:,1].values)**2)\n",
        "print(f'Erro: E = {erro_linear:.4e}')\n",
        "print()\n",
        "\n",
        "# modelo exponencial\n",
        "lamb = np.exp((1 / alpha) * (soma_lny * soma_x2 - soma_x * soma_xlny))\n",
        "beta = (1 / alpha) * (m * soma_xlny - soma_x * soma_lny)\n",
        "print(f'Modelo exponencial: f(x) = {lamb:.5}exp({beta:.5}x)')\n",
        "\n",
        "y_hat_exp = lamb * np.exp(beta * x)\n",
        "erro_exp = sum((y_hat_exp - base_dados.iloc[:,1].values)**2)\n",
        "print(f'Erro: E = {erro_exp:.4e}')\n",
        "print()\n",
        "\n",
        "# modelo quadrático\n",
        "A = (m * soma_xy - soma_x * soma_y) / (m * soma_x2 - (soma_x)**2)\n",
        "B = (m * soma_x3 - soma_x2 * soma_x) / (m * soma_x2 - (soma_x)**2)\n",
        "C = soma_x3 - (1 / m) * (soma_x * soma_x2)\n",
        "a2 = (m * soma_x2y - soma_x2 * soma_y - m * A * C)/(m * soma_x4 - (soma_x2)**2 - m * B * C)\n",
        "a1 = A - B * a2\n",
        "a0 = (1 / m) * (soma_y - A * soma_x - (soma_x2 - B * soma_x) * a2)\n",
        "print(f'Modelo quadrático: f(x) = {a0:.5} + {a1:.5}x + {a2:.5}x^2')\n",
        "\n",
        "y_hat_quad = a0 + a1 * x + a2 * (x)**2\n",
        "erro_quad = sum((y_hat_quad - base_dados.iloc[:,1].values)**2)\n",
        "print(f'Erro: E = {erro_quad:.4e}')\n",
        "print()\n",
        "\n",
        "# modelo exponencial de uma quadrática\n",
        "A = (m * soma_xlny - soma_x * soma_lny) / (m * soma_x2 - (soma_x)**2)\n",
        "B = (m * soma_x3 - soma_x2 * soma_x) / (m * soma_x2 - (soma_x)**2)\n",
        "C = soma_x3 - (1 / m) * (soma_x * soma_x2)\n",
        "a2 = (m * soma_x2lny - soma_x2 * soma_lny - m * A * C)/(m * soma_x4 - (soma_x2)**2 - m * B * C)\n",
        "a1 = A - B * a2\n",
        "a0 = (1 / m) * (soma_lny - A * soma_x - (soma_x2 - B * soma_x) * a2)\n",
        "print(f'Modelo exponencial de uma quadrática: f(x) = exp({a0:.5} + {a1:.5}x + {a2:.5}x^2)')\n",
        "\n",
        "y_hat_exp_quad = np.exp(a0 + a1 * x + a2 * (x)**2)\n",
        "erro_exp_quad = sum((y_hat_exp_quad - base_dados.iloc[:,1].values)**2)\n",
        "print(f'E = {erro_exp_quad:.4e}')\n",
        "print()"
      ],
      "execution_count": 23,
      "outputs": [
        {
          "output_type": "stream",
          "text": [
            "Modelo linear: f(x) = 3.0714 + 38.643x\n",
            "Erro: E = 4.1324e+03\n",
            "\n",
            "Modelo exponencial: f(x) = 32.147exp(0.35555x)\n",
            "Erro: E = 1.8142e+01\n",
            "\n",
            "Modelo quadrático: f(x) = 37.357 + -2.5x + 6.8571x^2\n",
            "Erro: E = 1.8271e+02\n",
            "\n",
            "Modelo exponencial de uma quadrática: f(x) = exp(3.4795 + 0.34456x + 0.0018311x^2)\n",
            "E = 3.5700e+00\n",
            "\n"
          ],
          "name": "stdout"
        }
      ]
    },
    {
      "cell_type": "code",
      "metadata": {
        "colab_type": "code",
        "outputId": "a7011a33-b1fd-4892-f80b-7831e9323158",
        "id": "IjtESh_Jq7Iz",
        "colab": {
          "base_uri": "https://localhost:8080/",
          "height": 295
        }
      },
      "source": [
        "plt.scatter(x, y, color = \"black\", linewidths = 1e-5)\n",
        "plt.plot(x, y_hat_linear, label = \"modelo linear\") # color = \"blue\"\n",
        "plt.plot(x, y_hat_exp, label = \"modelo exponencial\")\n",
        "plt.plot(x, y_hat_quad, label = \"modelo quadrático\")\n",
        "plt.plot(x, y_hat_exp_quad, label = \"modelo exponencial(quadrática)\")\n",
        "plt.xlabel(\"nº de horas x\")\n",
        "plt.ylabel(\"nº de bactérias por volume unitário y\")\n",
        "plt.title(\"Ajuste dos Modelos de Mínimos Quadrados\")\n",
        "plt.legend()\n",
        "plt.show()"
      ],
      "execution_count": 24,
      "outputs": [
        {
          "output_type": "display_data",
          "data": {
            "image/png": "[encoded data removed]",
            "text/plain": [
              "<Figure size 432x288 with 1 Axes>"
            ]
          },
          "metadata": {
            "tags": [],
            "needs_background": "light"
          }
        }
      ]
    },
    {
      "cell_type": "code",
      "metadata": {
        "colab_type": "code",
        "id": "dkFIpJjIq7I4",
        "colab": {}
      },
      "source": [
        "# Erros\n",
        "erro_relativo_linear = np.absolute(y_hat_linear - base_dados.iloc[:, 1].values).mean() / np.absolute(base_dados.iloc[:, 1].values).mean()\n",
        "erro_relativo_exp = np.absolute(y_hat_exp - base_dados.iloc[:, 1].values).mean() / np.absolute(base_dados.iloc[:, 1].values).mean()\n",
        "erro_relativo_quad = np.absolute(y_hat_quad - base_dados.iloc[:, 1].values).mean() / np.absolute(base_dados.iloc[:, 1].values).mean()\n",
        "erro_relativo_exp_quad = np.absolute(y_hat_exp_quad - base_dados.iloc[:, 1].values).mean() / np.absolute(base_dados.iloc[:, 1].values).mean()"
      ],
      "execution_count": 0,
      "outputs": []
    },
    {
      "cell_type": "markdown",
      "metadata": {
        "colab_type": "text",
        "id": "rE5RED7Fq7Jt"
      },
      "source": [
        "Comparação entre os erros da regressão"
      ]
    },
    {
      "cell_type": "code",
      "metadata": {
        "colab_type": "code",
        "outputId": "f6190d51-3788-4763-cf6e-a99bf0541b09",
        "id": "K6dbWlPSq7Jt",
        "colab": {
          "base_uri": "https://localhost:8080/",
          "height": 173
        }
      },
      "source": [
        "data = {\n",
        "'Modelo': ['linear', 'exponencial', 'quadrático', 'exponencial de quadrática'],\n",
        "'Erro (E)': [erro_linear, erro_exp, erro_quad, erro_exp_quad],\n",
        "'Erro Relativo': [erro_relativo_linear, erro_relativo_exp, erro_relativo_quad, erro_relativo_exp_quad]\n",
        "}\n",
        "erros = pd.DataFrame(data, columns=['Modelo', 'Erro (E)', 'Erro Relativo'])\n",
        "erros"
      ],
      "execution_count": 26,
      "outputs": [
        {
          "output_type": "execute_result",
          "data": {
            "text/html": [
              "<div>\n",
              "<style scoped>\n",
              "    .dataframe tbody tr th:only-of-type {\n",
              "        vertical-align: middle;\n",
              "    }\n",
              "\n",
              "    .dataframe tbody tr th {\n",
              "        vertical-align: top;\n",
              "    }\n",
              "\n",
              "    .dataframe thead th {\n",
              "        text-align: right;\n",
              "    }\n",
              "</style>\n",
              "<table border=\"1\" class=\"dataframe\">\n",
              "  <thead>\n",
              "    <tr style=\"text-align: right;\">\n",
              "      <th></th>\n",
              "      <th>Modelo</th>\n",
              "      <th>Erro (E)</th>\n",
              "      <th>Erro Relativo</th>\n",
              "    </tr>\n",
              "  </thead>\n",
              "  <tbody>\n",
              "    <tr>\n",
              "      <th>0</th>\n",
              "      <td>linear</td>\n",
              "      <td>4132.428571</td>\n",
              "      <td>0.178357</td>\n",
              "    </tr>\n",
              "    <tr>\n",
              "      <th>1</th>\n",
              "      <td>exponencial</td>\n",
              "      <td>18.142097</td>\n",
              "      <td>0.009867</td>\n",
              "    </tr>\n",
              "    <tr>\n",
              "      <th>2</th>\n",
              "      <td>quadrático</td>\n",
              "      <td>182.714286</td>\n",
              "      <td>0.040130</td>\n",
              "    </tr>\n",
              "    <tr>\n",
              "      <th>3</th>\n",
              "      <td>exponencial de quadrática</td>\n",
              "      <td>3.570047</td>\n",
              "      <td>0.005100</td>\n",
              "    </tr>\n",
              "  </tbody>\n",
              "</table>\n",
              "</div>"
            ],
            "text/plain": [
              "                      Modelo     Erro (E)  Erro Relativo\n",
              "0                     linear  4132.428571       0.178357\n",
              "1                exponencial    18.142097       0.009867\n",
              "2                 quadrático   182.714286       0.040130\n",
              "3  exponencial de quadrática     3.570047       0.005100"
            ]
          },
          "metadata": {
            "tags": []
          },
          "execution_count": 26
        }
      ]
    },
    {
      "cell_type": "markdown",
      "metadata": {
        "colab_type": "text",
        "id": "5s9J2qzRq7Jz"
      },
      "source": [
        "Dados do Futuro"
      ]
    },
    {
      "cell_type": "code",
      "metadata": {
        "colab_type": "code",
        "outputId": "1568f056-fa72-4c07-d708-ae2a6a668578",
        "id": "vwR1XMtPq7J0",
        "colab": {
          "base_uri": "https://localhost:8080/",
          "height": 295
        }
      },
      "source": [
        "x = base_dados.iloc[:, 0].values\n",
        "y = base_dados.iloc[:, 1].values\n",
        "y_hat_exp_quad = np.exp(a0 + a1 * np.arange(0, 15, 1) + a2 * (np.arange(0, 15, 1))**2)\n",
        "plt.scatter(x, y, color = \"black\", linewidths = 1e-5)\n",
        "plt.plot(np.arange(0, 15, 1), y_hat_exp_quad, color = \"blue\")\n",
        "plt.xlabel(\"dias x\")\n",
        "plt.ylabel(\"mortes y\")\n",
        "plt.title(\"Modelo exponencial(quadrática) - previsão\")\n",
        "plt.show()"
      ],
      "execution_count": 27,
      "outputs": [
        {
          "output_type": "display_data",
          "data": {
            "image/png": "[encoded data removed]",
            "text/plain": [
              "<Figure size 432x288 with 1 Axes>"
            ]
          },
          "metadata": {
            "tags": [],
            "needs_background": "light"
          }
        }
      ]
    },
    {
      "cell_type": "code",
      "metadata": {
        "id": "D5SKsWBXCfWF",
        "colab_type": "code",
        "colab": {
          "base_uri": "https://localhost:8080/",
          "height": 68
        },
        "outputId": "f991dc83-8b73-48ad-89cb-5a861024a65b"
      },
      "source": [
        "print(f'Em {7} horas tem-se {np.exp(a0 + a1 * 7 + a2 * (7)**2)} bactérias.')\n",
        "print(f'Em {10} horas tem-se {np.exp(a0 + a1 * 10 + a2 * (10)**2)} bactérias.')\n",
        "print(f'Em {15} horas tem-se {np.exp(a0 + a1 * 15 + a2 * (15)**2)} bactérias.')"
      ],
      "execution_count": 28,
      "outputs": [
        {
          "output_type": "stream",
          "text": [
            "Em 7 horas tem-se 395.87800892937366 bactérias.\n",
            "Em 10 horas tem-se 1221.9083037170894 bactérias.\n",
            "Em 15 horas tem-se 8602.87529362393 bactérias.\n"
          ],
          "name": "stdout"
        }
      ]
    }
  ]
}